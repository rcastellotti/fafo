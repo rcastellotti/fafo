{
 "cells": [
  {
   "cell_type": "code",
   "execution_count": null,
   "metadata": {},
   "outputs": [],
   "source": [
    "import json\n",
    "import requests\n",
    "import textwrap\n",
    "import os\n",
    "from dotenv import load_dotenv\n",
    "load_dotenv()\n",
    "\n",
    "class color:\n",
    "   PURPLE = '\\033[95m'\n",
    "   CYAN = '\\033[96m'\n",
    "   DARKCYAN = '\\033[36m'\n",
    "   BLUE = '\\033[94m'\n",
    "   GREEN = '\\033[92m'\n",
    "   YELLOW = '\\033[93m'\n",
    "   RED = '\\033[91m'\n",
    "   BOLD = '\\033[1m'\n",
    "   UNDERLINE = '\\033[4m'\n",
    "   END = '\\033[0m'\n",
    "\n",
    "print(color.BOLD + 'fafo' + color.END)"
   ]
  },
  {
   "cell_type": "code",
   "execution_count": null,
   "metadata": {},
   "outputs": [],
   "source": [
    "cookies = {\n",
    "    \"auth_token\": os.getenv('auth_token'),\n",
    "    \"ct0\": os.getenv(\"ct0\"),\n",
    "}\n",
    "headers = {\n",
    "    \"authorization\": f\"Bearer {os.getenv('bearer_token')}\",\n",
    "    \"x-csrf-token\": os.getenv('x-csrf-token'),\n",
    "}\n",
    "variables = {\n",
    "    \"userId\": 130537001,\n",
    "    \"count\": 20,\n",
    "    # cursor is data.user.result[\"timeline_v2\"].timeline.instructions[0].entries[20].content.value\n",
    "    # \"cursor\": \"DAABCgABGEjc4g8__-QKAAIYMBNIpZpgAQgAAwAAAAIAAA\",\n",
    "    \"includePromotedContent\": True,\n",
    "    \"withVoice\": True,\n",
    "    \"withV2Timeline\": True,\n",
    "}\n",
    "features = {\n",
    "    \"responsive_web_graphql_exclude_directive_enabled\": True,\n",
    "    \"verified_phone_label_enabled\": False,\n",
    "    \"creator_subscriptions_tweet_preview_api_enabled\": True,\n",
    "    \"responsive_web_graphql_timeline_navigation_enabled\": True,\n",
    "    \"responsive_web_graphql_skip_user_profile_image_extensions_enabled\": False,\n",
    "    \"c9s_tweet_anatomy_moderator_badge_enabled\": True,\n",
    "    \"tweetypie_unmention_optimization_enabled\": True,\n",
    "    \"responsive_web_edit_tweet_api_enabled\": True,\n",
    "    \"graphql_is_translatable_rweb_tweet_is_translatable_enabled\": True,\n",
    "    \"view_counts_everywhere_api_enabled\": True,\n",
    "    \"longform_notetweets_consumption_enabled\": True,\n",
    "    \"responsive_web_twitter_article_tweet_consumption_enabled\": True,\n",
    "    \"tweet_awards_web_tipping_enabled\": False,\n",
    "    \"freedom_of_speech_not_reach_fetch_enabled\": True,\n",
    "    \"standardized_nudges_misinfo\": True,\n",
    "    \"tweet_with_visibility_results_prefer_gql_limited_actions_policy_enabled\": True,\n",
    "    \"rweb_video_timestamps_enabled\": True,\n",
    "    \"longform_notetweets_rich_text_read_enabled\": True,\n",
    "    \"longform_notetweets_inline_media_enabled\": True,\n",
    "    \"responsive_web_media_download_video_enabled\": False,\n",
    "    \"responsive_web_enhance_cards_enabled\": False,\n",
    "}\n",
    "\n",
    "r = requests.get(\n",
    "    \"https://twitter.com/i/api/graphql/eB8E8M_tVXS-5wuFivd48Q/UserTweets\",\n",
    "    headers=headers,\n",
    "    cookies=cookies,\n",
    "    params=((\"variables\", json.dumps(variables)), (\"features\", json.dumps(features))),\n",
    ")\n",
    "\n",
    "with open(\"tweets.json\", \"w+\") as f:\n",
    "    json.dump(r.json(), f)\n"
   ]
  },
  {
   "cell_type": "code",
   "execution_count": null,
   "metadata": {},
   "outputs": [],
   "source": [
    "with open(\"tweets.json\",\"r\") as f:\n",
    "    d=json.load(f)\n",
    "    tweets=(d[\"data\"][\"user\"][\"result\"][\"timeline_v2\"][\"timeline\"][\"instructions\"][1][\"entries\"])\n",
    "    for t in tweets:\n",
    "        result=t[\"content\"][\"itemContent\"][\"tweet_results\"][\"result\"]\n",
    "        rest_id=result[\"rest_id\"]\n",
    "        full_text=result[\"legacy\"][\"full_text\"]\n",
    "        print(f\"\\n{color.BOLD}tweet:{color.END} https://twitter.com/i/web/status/{rest_id}\")\n",
    "        print(f\"{color.BOLD}full_text:{color.END} {textwrap.fill(full_text, 80)}\")\n"
   ]
  }
 ],
 "metadata": {
  "kernelspec": {
   "display_name": "Python 3",
   "language": "python",
   "name": "python3"
  },
  "language_info": {
   "codemirror_mode": {
    "name": "ipython",
    "version": 3
   },
   "file_extension": ".py",
   "mimetype": "text/x-python",
   "name": "python",
   "nbconvert_exporter": "python",
   "pygments_lexer": "ipython3",
   "version": "3.9.6"
  }
 },
 "nbformat": 4,
 "nbformat_minor": 2
}
